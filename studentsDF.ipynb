{
 "cells": [
  {
   "cell_type": "code",
   "execution_count": 1,
   "id": "209ea819",
   "metadata": {},
   "outputs": [
    {
     "data": {
      "text/html": [
       "<div>\n",
       "<style scoped>\n",
       "    .dataframe tbody tr th:only-of-type {\n",
       "        vertical-align: middle;\n",
       "    }\n",
       "\n",
       "    .dataframe tbody tr th {\n",
       "        vertical-align: top;\n",
       "    }\n",
       "\n",
       "    .dataframe thead th {\n",
       "        text-align: right;\n",
       "    }\n",
       "</style>\n",
       "<table border=\"1\" class=\"dataframe\">\n",
       "  <thead>\n",
       "    <tr style=\"text-align: right;\">\n",
       "      <th></th>\n",
       "      <th>Name</th>\n",
       "      <th>SRN</th>\n",
       "      <th>Mark1</th>\n",
       "      <th>Mark2</th>\n",
       "      <th>Mark3</th>\n",
       "      <th>Target</th>\n",
       "    </tr>\n",
       "  </thead>\n",
       "  <tbody>\n",
       "    <tr>\n",
       "      <th>0</th>\n",
       "      <td>Ajay</td>\n",
       "      <td>11</td>\n",
       "      <td>88.0</td>\n",
       "      <td>?</td>\n",
       "      <td>70</td>\n",
       "      <td>Fail</td>\n",
       "    </tr>\n",
       "    <tr>\n",
       "      <th>1</th>\n",
       "      <td>Kira</td>\n",
       "      <td>22</td>\n",
       "      <td>98.0</td>\n",
       "      <td>?</td>\n",
       "      <td>71</td>\n",
       "      <td>Pass</td>\n",
       "    </tr>\n",
       "    <tr>\n",
       "      <th>2</th>\n",
       "      <td>Rama</td>\n",
       "      <td>33</td>\n",
       "      <td>100.0</td>\n",
       "      <td>?</td>\n",
       "      <td>67</td>\n",
       "      <td>Pass</td>\n",
       "    </tr>\n",
       "    <tr>\n",
       "      <th>3</th>\n",
       "      <td>Peter</td>\n",
       "      <td>44</td>\n",
       "      <td>NaN</td>\n",
       "      <td>?</td>\n",
       "      <td>78</td>\n",
       "      <td>Fail</td>\n",
       "    </tr>\n",
       "    <tr>\n",
       "      <th>4</th>\n",
       "      <td>John</td>\n",
       "      <td>?</td>\n",
       "      <td>NaN</td>\n",
       "      <td>88</td>\n",
       "      <td>89</td>\n",
       "      <td>Fail</td>\n",
       "    </tr>\n",
       "    <tr>\n",
       "      <th>5</th>\n",
       "      <td>Adam</td>\n",
       "      <td>88</td>\n",
       "      <td>78.0</td>\n",
       "      <td>90</td>\n",
       "      <td>97</td>\n",
       "      <td>Pass</td>\n",
       "    </tr>\n",
       "    <tr>\n",
       "      <th>6</th>\n",
       "      <td>Ravi</td>\n",
       "      <td>66</td>\n",
       "      <td>90.0</td>\n",
       "      <td>90</td>\n",
       "      <td>10</td>\n",
       "      <td>Fail</td>\n",
       "    </tr>\n",
       "  </tbody>\n",
       "</table>\n",
       "</div>"
      ],
      "text/plain": [
       "    Name SRN  Mark1 Mark2  Mark3 Target\n",
       "0   Ajay  11   88.0     ?     70   Fail\n",
       "1   Kira  22   98.0     ?     71   Pass\n",
       "2   Rama  33  100.0     ?     67   Pass\n",
       "3  Peter  44    NaN     ?     78   Fail\n",
       "4   John   ?    NaN    88     89   Fail\n",
       "5   Adam  88   78.0    90     97   Pass\n",
       "6   Ravi  66   90.0    90     10   Fail"
      ]
     },
     "execution_count": 1,
     "metadata": {},
     "output_type": "execute_result"
    }
   ],
   "source": [
    "import pandas as pd\n",
    "import numpy as np\n",
    "df=pd.read_csv(\"students.csv\")\n",
    "df"
   ]
  },
  {
   "cell_type": "code",
   "execution_count": 2,
   "id": "33df0e94",
   "metadata": {},
   "outputs": [
    {
     "name": "stdout",
     "output_type": "stream",
     "text": [
      "    Name    SRN  Mark1  Mark2  Mark3  Target\n",
      "0  False  False  False   True  False   False\n",
      "1  False  False  False   True  False   False\n",
      "2  False  False  False   True  False   False\n",
      "3  False  False  False   True  False   False\n",
      "4  False   True  False  False  False   False\n",
      "5  False  False  False  False  False   False\n",
      "6  False  False  False  False  False   False\n"
     ]
    },
    {
     "data": {
      "text/plain": [
       "Name      0\n",
       "SRN       1\n",
       "Mark1     0\n",
       "Mark2     4\n",
       "Mark3     0\n",
       "Target    0\n",
       "dtype: int64"
      ]
     },
     "execution_count": 2,
     "metadata": {},
     "output_type": "execute_result"
    }
   ],
   "source": [
    "print(df.isin(['?']))\n",
    "df.isin([\"?\"]).sum()"
   ]
  },
  {
   "cell_type": "code",
   "execution_count": 3,
   "id": "5b56eb02",
   "metadata": {},
   "outputs": [
    {
     "data": {
      "text/html": [
       "<div>\n",
       "<style scoped>\n",
       "    .dataframe tbody tr th:only-of-type {\n",
       "        vertical-align: middle;\n",
       "    }\n",
       "\n",
       "    .dataframe tbody tr th {\n",
       "        vertical-align: top;\n",
       "    }\n",
       "\n",
       "    .dataframe thead th {\n",
       "        text-align: right;\n",
       "    }\n",
       "</style>\n",
       "<table border=\"1\" class=\"dataframe\">\n",
       "  <thead>\n",
       "    <tr style=\"text-align: right;\">\n",
       "      <th></th>\n",
       "      <th>Name</th>\n",
       "      <th>SRN</th>\n",
       "      <th>Mark1</th>\n",
       "      <th>Mark2</th>\n",
       "      <th>Mark3</th>\n",
       "      <th>Target</th>\n",
       "    </tr>\n",
       "  </thead>\n",
       "  <tbody>\n",
       "    <tr>\n",
       "      <th>0</th>\n",
       "      <td>Ajay</td>\n",
       "      <td>11</td>\n",
       "      <td>88.0</td>\n",
       "      <td>NaN</td>\n",
       "      <td>70</td>\n",
       "      <td>Fail</td>\n",
       "    </tr>\n",
       "    <tr>\n",
       "      <th>1</th>\n",
       "      <td>Kira</td>\n",
       "      <td>22</td>\n",
       "      <td>98.0</td>\n",
       "      <td>NaN</td>\n",
       "      <td>71</td>\n",
       "      <td>Pass</td>\n",
       "    </tr>\n",
       "    <tr>\n",
       "      <th>2</th>\n",
       "      <td>Rama</td>\n",
       "      <td>33</td>\n",
       "      <td>100.0</td>\n",
       "      <td>NaN</td>\n",
       "      <td>67</td>\n",
       "      <td>Pass</td>\n",
       "    </tr>\n",
       "    <tr>\n",
       "      <th>3</th>\n",
       "      <td>Peter</td>\n",
       "      <td>44</td>\n",
       "      <td>NaN</td>\n",
       "      <td>NaN</td>\n",
       "      <td>78</td>\n",
       "      <td>Fail</td>\n",
       "    </tr>\n",
       "    <tr>\n",
       "      <th>4</th>\n",
       "      <td>John</td>\n",
       "      <td>NaN</td>\n",
       "      <td>NaN</td>\n",
       "      <td>88</td>\n",
       "      <td>89</td>\n",
       "      <td>Fail</td>\n",
       "    </tr>\n",
       "    <tr>\n",
       "      <th>5</th>\n",
       "      <td>Adam</td>\n",
       "      <td>88</td>\n",
       "      <td>78.0</td>\n",
       "      <td>90</td>\n",
       "      <td>97</td>\n",
       "      <td>Pass</td>\n",
       "    </tr>\n",
       "    <tr>\n",
       "      <th>6</th>\n",
       "      <td>Ravi</td>\n",
       "      <td>66</td>\n",
       "      <td>90.0</td>\n",
       "      <td>90</td>\n",
       "      <td>10</td>\n",
       "      <td>Fail</td>\n",
       "    </tr>\n",
       "  </tbody>\n",
       "</table>\n",
       "</div>"
      ],
      "text/plain": [
       "    Name  SRN  Mark1 Mark2  Mark3 Target\n",
       "0   Ajay   11   88.0   NaN     70   Fail\n",
       "1   Kira   22   98.0   NaN     71   Pass\n",
       "2   Rama   33  100.0   NaN     67   Pass\n",
       "3  Peter   44    NaN   NaN     78   Fail\n",
       "4   John  NaN    NaN    88     89   Fail\n",
       "5   Adam   88   78.0    90     97   Pass\n",
       "6   Ravi   66   90.0    90     10   Fail"
      ]
     },
     "execution_count": 3,
     "metadata": {},
     "output_type": "execute_result"
    }
   ],
   "source": [
    "df[\"SRN\"]=df[\"SRN\"].replace('?',np.nan)\n",
    "df[\"Mark2\"]=df[\"Mark2\"].replace('?',np.nan)\n",
    "df"
   ]
  },
  {
   "cell_type": "code",
   "execution_count": 7,
   "id": "7c0fd6ba",
   "metadata": {},
   "outputs": [
    {
     "data": {
      "text/html": [
       "<div>\n",
       "<style scoped>\n",
       "    .dataframe tbody tr th:only-of-type {\n",
       "        vertical-align: middle;\n",
       "    }\n",
       "\n",
       "    .dataframe tbody tr th {\n",
       "        vertical-align: top;\n",
       "    }\n",
       "\n",
       "    .dataframe thead th {\n",
       "        text-align: right;\n",
       "    }\n",
       "</style>\n",
       "<table border=\"1\" class=\"dataframe\">\n",
       "  <thead>\n",
       "    <tr style=\"text-align: right;\">\n",
       "      <th></th>\n",
       "      <th>Name</th>\n",
       "      <th>SRN</th>\n",
       "      <th>Mark1</th>\n",
       "      <th>Mark2</th>\n",
       "      <th>Mark3</th>\n",
       "      <th>Target</th>\n",
       "    </tr>\n",
       "  </thead>\n",
       "  <tbody>\n",
       "    <tr>\n",
       "      <th>0</th>\n",
       "      <td>Ajay</td>\n",
       "      <td>11</td>\n",
       "      <td>88.0</td>\n",
       "      <td>5</td>\n",
       "      <td>70</td>\n",
       "      <td>Fail</td>\n",
       "    </tr>\n",
       "    <tr>\n",
       "      <th>1</th>\n",
       "      <td>Kira</td>\n",
       "      <td>22</td>\n",
       "      <td>98.0</td>\n",
       "      <td>5</td>\n",
       "      <td>71</td>\n",
       "      <td>Pass</td>\n",
       "    </tr>\n",
       "    <tr>\n",
       "      <th>2</th>\n",
       "      <td>Rama</td>\n",
       "      <td>33</td>\n",
       "      <td>100.0</td>\n",
       "      <td>5</td>\n",
       "      <td>67</td>\n",
       "      <td>Pass</td>\n",
       "    </tr>\n",
       "    <tr>\n",
       "      <th>3</th>\n",
       "      <td>Peter</td>\n",
       "      <td>44</td>\n",
       "      <td>5.0</td>\n",
       "      <td>5</td>\n",
       "      <td>78</td>\n",
       "      <td>Fail</td>\n",
       "    </tr>\n",
       "    <tr>\n",
       "      <th>4</th>\n",
       "      <td>John</td>\n",
       "      <td>5</td>\n",
       "      <td>5.0</td>\n",
       "      <td>88</td>\n",
       "      <td>89</td>\n",
       "      <td>Fail</td>\n",
       "    </tr>\n",
       "    <tr>\n",
       "      <th>5</th>\n",
       "      <td>Adam</td>\n",
       "      <td>88</td>\n",
       "      <td>78.0</td>\n",
       "      <td>90</td>\n",
       "      <td>97</td>\n",
       "      <td>Pass</td>\n",
       "    </tr>\n",
       "    <tr>\n",
       "      <th>6</th>\n",
       "      <td>Ravi</td>\n",
       "      <td>66</td>\n",
       "      <td>90.0</td>\n",
       "      <td>90</td>\n",
       "      <td>10</td>\n",
       "      <td>Fail</td>\n",
       "    </tr>\n",
       "  </tbody>\n",
       "</table>\n",
       "</div>"
      ],
      "text/plain": [
       "    Name SRN  Mark1 Mark2  Mark3 Target\n",
       "0   Ajay  11   88.0     5     70   Fail\n",
       "1   Kira  22   98.0     5     71   Pass\n",
       "2   Rama  33  100.0     5     67   Pass\n",
       "3  Peter  44    5.0     5     78   Fail\n",
       "4   John   5    5.0    88     89   Fail\n",
       "5   Adam  88   78.0    90     97   Pass\n",
       "6   Ravi  66   90.0    90     10   Fail"
      ]
     },
     "execution_count": 7,
     "metadata": {},
     "output_type": "execute_result"
    }
   ],
   "source": [
    "\n",
    "df=df.fillna(5)\n",
    "df"
   ]
  },
  {
   "cell_type": "code",
   "execution_count": 6,
   "id": "b5f434fd",
   "metadata": {},
   "outputs": [
    {
     "data": {
      "text/plain": [
       "(7, 6)"
      ]
     },
     "execution_count": 6,
     "metadata": {},
     "output_type": "execute_result"
    }
   ],
   "source": [
    "df.shape"
   ]
  },
  {
   "cell_type": "code",
   "execution_count": 7,
   "id": "fda6615c",
   "metadata": {},
   "outputs": [
    {
     "data": {
      "text/plain": [
       "Index(['Name', 'SRN', 'Mark1', 'Mark2', 'Mark3', 'Target'], dtype='object')"
      ]
     },
     "execution_count": 7,
     "metadata": {},
     "output_type": "execute_result"
    }
   ],
   "source": [
    "df.columns"
   ]
  },
  {
   "cell_type": "code",
   "execution_count": 8,
   "id": "ab9ab828",
   "metadata": {},
   "outputs": [
    {
     "data": {
      "text/plain": [
       "'Mark1'"
      ]
     },
     "execution_count": 8,
     "metadata": {},
     "output_type": "execute_result"
    }
   ],
   "source": [
    "df.columns[2]"
   ]
  },
  {
   "cell_type": "code",
   "execution_count": null,
   "id": "1db5ba0d",
   "metadata": {},
   "outputs": [],
   "source": []
  },
  {
   "cell_type": "code",
   "execution_count": null,
   "id": "cf594355",
   "metadata": {},
   "outputs": [],
   "source": []
  },
  {
   "cell_type": "code",
   "execution_count": null,
   "id": "6c0a8354",
   "metadata": {},
   "outputs": [],
   "source": []
  },
  {
   "cell_type": "code",
   "execution_count": null,
   "id": "92deb4b0",
   "metadata": {},
   "outputs": [],
   "source": []
  }
 ],
 "metadata": {
  "kernelspec": {
   "display_name": "Python 3 (ipykernel)",
   "language": "python",
   "name": "python3"
  },
  "language_info": {
   "codemirror_mode": {
    "name": "ipython",
    "version": 3
   },
   "file_extension": ".py",
   "mimetype": "text/x-python",
   "name": "python",
   "nbconvert_exporter": "python",
   "pygments_lexer": "ipython3",
   "version": "3.9.7"
  }
 },
 "nbformat": 4,
 "nbformat_minor": 5
}
